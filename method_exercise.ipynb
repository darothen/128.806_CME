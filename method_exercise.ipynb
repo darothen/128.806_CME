{
 "metadata": {
  "name": "",
  "signature": "sha256:d030023bb48fab402ebe948ed924246e26a01b32b6faa172b04af11a1bc81123"
 },
 "nbformat": 3,
 "nbformat_minor": 0,
 "worksheets": [
  {
   "cells": [
    {
     "cell_type": "markdown",
     "metadata": {},
     "source": [
      "# 12.806 - Computational Methods Exercise\n",
      "\n",
      "## Introduction"
     ]
    },
    {
     "cell_type": "code",
     "collapsed": false,
     "input": [
      "import numpy as np\n",
      "from scipy.integrate import odeint\n",
      "from odespy import *\n",
      "from scipy.interpolate import PchipInterpolator, PiecewisePolynomial\n",
      "\n",
      "import pandas as pd\n",
      "\n",
      "%matplotlib inline\n",
      "import matplotlib.pyplot as plt\n",
      "import seaborn as sns\n",
      "sns.set(style='ticks')"
     ],
     "language": "python",
     "metadata": {},
     "outputs": [],
     "prompt_number": 49
    },
    {
     "cell_type": "code",
     "collapsed": false,
     "input": [
      "%%writefile emis_table.csv\n",
      "year,rate\n",
      "1000,0.0\n",
      "1850,0.0\n",
      "1950,0.0\n",
      "1980,0.0\n",
      "2000,5.0\n",
      "2050,8.0\n",
      "2080,10.0\n",
      "2100,10.5\n",
      "2120,10.0\n",
      "2150,8.0\n",
      "2225,3.5\n",
      "2300,2.0\n",
      "2500,0.0\n",
      "5000,0.0"
     ],
     "language": "python",
     "metadata": {},
     "outputs": [
      {
       "output_type": "stream",
       "stream": "stdout",
       "text": [
        "Overwriting emis_table.csv\n"
       ]
      }
     ],
     "prompt_number": 34
    },
    {
     "cell_type": "code",
     "collapsed": false,
     "input": [
      "## Constants\n",
      "\n",
      "d    = 8.64\n",
      "mu_1 = 4.95e2\n",
      "mu_2 = 4.95e-2\n",
      "v_s  = 0.12\n",
      "v_d  = 1.23\n",
      "w    = 1e-3\n",
      "k_1  = 2.19e-4\n",
      "k_2  = 6.12e-5\n",
      "k_3  = 0.997148\n",
      "k_4  = 6.79e-2\n",
      "\n",
      "## Initial Conditions\n",
      "\n",
      "p0       = 1.0\n",
      "sigma_s0 = 2.01\n",
      "sigma_d0 = 2.23\n",
      "alpha_s0 = 2.20\n",
      "alpha_d0 = 2.26\n",
      "\n",
      "y0 = [p0, sigma_s0, sigma_d0, alpha_s0, alpha_d0]\n",
      "\n",
      "## Boundary conditions\n",
      "emis_table = pd.read_csv(\"emis_table.csv\")\n",
      "emis_func = PchipInterpolator(emis_table['year'], \n",
      "                              emis_table['rate'], \n",
      "                              extrapolate=True)\n",
      "\n",
      "## ODE System\n",
      "\n",
      "def rhs(y, t, emis_func):\n",
      "    \n",
      "    p, sigma_s, sigma_d, alpha_s, alpha_d = y[:]\n",
      "    \n",
      "    ## Compute CO2 / carbonate dissolution equilibrium terms\n",
      "    factor = sigma_s**2 - k_3*alpha_s*(2.*sigma_s - alpha_s)\n",
      "    h_s = (sigma_s - np.sqrt(factor))/k_3\n",
      "    c_s = (alpha_s - h_s)/2.\n",
      "    p_s = k_4*(h_s**2)/c_s\n",
      "    \n",
      "    p_diff     = p_s - p\n",
      "    sigma_diff = sigma_d - sigma_s\n",
      "    alpha_diff = alpha_d - alpha_s\n",
      "    \n",
      "    ## time-derivatives\n",
      "    dp_dt       = p_diff/d + emis_func(t)/mu_1\n",
      "    dsigma_s_dt = (1./v_s)*(sigma_diff*w - k_1 - p_diff*mu_2)\n",
      "    dsigma_d_dt = (1./v_d)*(k_1 - sigma_diff*w)\n",
      "    dalpha_s_dt = (1./v_s)*(alpha_diff*w - k_2)\n",
      "    dalpha_d_dt = (1./v_d)*(k_2 - alpha_diff*w)\n",
      "    \n",
      "    dy_dt = [dp_dt, dsigma_s_dt, dsigma_d_dt, dalpha_s_dt, dalpha_d_dt]\n",
      "    \n",
      "    return dy_dt"
     ],
     "language": "python",
     "metadata": {},
     "outputs": [],
     "prompt_number": 45
    },
    {
     "cell_type": "code",
     "collapsed": false,
     "input": [
      "## Integration\n",
      "t0    = 1000.0\n",
      "t_end = 5000.0\n",
      "dt    = 1. # years\n",
      "t = np.arange(t0, t_end, dt)\n",
      "\n",
      "#y, info = odeint(rhs, y0, t, args=(emis_func, ), full_output=True,\n",
      "#                 printmessg=1, rtol=1e-6, atol=1e-6)\n",
      "rhs_args = lambda u, t: rhs(u, t, emis_func)\n",
      "solver = RKF45(rhs_args)\n",
      "solver.set_initial_condition(y0)\n",
      "y, t = solver.solve(t)\n",
      "\n",
      "#print info\n",
      "\n",
      "tt = pd.Series(t, name=\"time\")\n",
      "yy = pd.DataFrame(y, columns=[\"p\", \"sigma_s\", \"sigma_d\", \n",
      "                              \"alpha_s\", \"alpha_d\",],\n",
      "                  index=tt)\n",
      "yy['emissions'] = emis_func(tt)"
     ],
     "language": "python",
     "metadata": {},
     "outputs": [],
     "prompt_number": 52
    },
    {
     "cell_type": "code",
     "collapsed": false,
     "input": [
      "yy[[\"emissions\"]].plot()\n",
      "yy[[\"p\", \"sigma_s\", \"sigma_d\"]].plot()"
     ],
     "language": "python",
     "metadata": {},
     "outputs": [
      {
       "metadata": {},
       "output_type": "pyout",
       "prompt_number": 53,
       "text": [
        "<matplotlib.axes._subplots.AxesSubplot at 0x10b74bdd0>"
       ]
      },
      {
       "metadata": {},
       "output_type": "display_data",
       "png": "[encoded data removed]",
       "text": [
        "<matplotlib.figure.Figure at 0x10b0d3210>"
       ]
      },
      {
       "metadata": {},
       "output_type": "display_data",
       "png": "[encoded data removed]",
       "text": [
        "<matplotlib.figure.Figure at 0x10a67d550>"
       ]
      }
     ],
     "prompt_number": 53
    },
    {
     "cell_type": "code",
     "collapsed": false,
     "input": [
      "yy[\"e]"
     ],
     "language": "python",
     "metadata": {},
     "outputs": []
    }
   ],
   "metadata": {}
  }
 ]
}